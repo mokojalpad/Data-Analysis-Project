{
 "cells": [
  {
   "cell_type": "markdown",
   "id": "bdec46f1",
   "metadata": {},
   "source": [
    "### Import important stuff"
   ]
  },
  {
   "cell_type": "code",
   "execution_count": null,
   "id": "1ffd4f1e",
   "metadata": {},
   "outputs": [],
   "source": [
    "import pandas as pd\n",
    "import numpy as np\n",
    "import random\n",
    "\n",
    "pd.set_option(\"display.max_columns\", 50)\n",
    "pd.set_option(\"display.max_rows\", 50)"
   ]
  },
  {
   "cell_type": "code",
   "execution_count": null,
   "id": "5883d59c",
   "metadata": {},
   "outputs": [],
   "source": [
    "df = pd.read_csv(\"universal_top_spotify_songs.csv\", delimiter = \",\")\n",
    "\n",
    "df.head()"
   ]
  },
  {
   "cell_type": "markdown",
   "id": "1feaddb6",
   "metadata": {},
   "source": [
    "### Cleaning Data"
   ]
  },
  {
   "cell_type": "code",
   "execution_count": null,
   "id": "181789fa",
   "metadata": {},
   "outputs": [],
   "source": [
    "df.info()"
   ]
  },
  {
   "cell_type": "code",
   "execution_count": null,
   "id": "500cc129",
   "metadata": {},
   "outputs": [],
   "source": [
    "df.isnull().sum()"
   ]
  },
  {
   "cell_type": "code",
   "execution_count": null,
   "id": "f08eb68c",
   "metadata": {},
   "outputs": [],
   "source": [
    "df.describe()"
   ]
  },
  {
   "cell_type": "code",
   "execution_count": null,
   "id": "a0c46f67",
   "metadata": {},
   "outputs": [],
   "source": [
    "# Limiting decimal places in the 'instrumentalness' to 4 decimal places\n",
    "df['instrumentalness'] = df['instrumentalness'].round(4)\n",
    "\n",
    "df.head()"
   ]
  },
  {
   "cell_type": "code",
   "execution_count": null,
   "id": "b92c543e",
   "metadata": {},
   "outputs": [],
   "source": [
    "# Counting unique column 'name' and 'artists'\n",
    "num_name = df['name'].nunique()\n",
    "num_artist = df['artists'].nunique()\n",
    "\n",
    "# Get 5 random rows from dataframe\n",
    "random_rows = df.sample(n=5)\n",
    "\n",
    "# Menampilkan hasil dalam kalimat\n",
    "output = f\"The total unique number of song names is {num_name}, and the total unique number of artists is {num_artist}.\"\n",
    "print(output)\n",
    "\n",
    "print(\"\\nSongs:\")\n",
    "for index, row in random_rows.iterrows():\n",
    "    song = row['name']\n",
    "    artist = row['artists']\n",
    "    print(f\"'{song}' by {artist}\")"
   ]
  },
  {
   "cell_type": "code",
   "execution_count": null,
   "id": "c5f26c76",
   "metadata": {},
   "outputs": [],
   "source": [
    "df[\"country\"].unique()"
   ]
  },
  {
   "cell_type": "code",
   "execution_count": null,
   "id": "32900092",
   "metadata": {},
   "outputs": [],
   "source": [
    "# replace na value with GBL\n",
    "df[\"country\"] = df[\"country\"].fillna(\"GBL\")\n",
    "\n",
    "# drop na value\n",
    "df = df.dropna()"
   ]
  },
  {
   "cell_type": "code",
   "execution_count": null,
   "id": "94707c99",
   "metadata": {},
   "outputs": [],
   "source": [
    "df[\"country\"].unique()"
   ]
  },
  {
   "cell_type": "code",
   "execution_count": null,
   "id": "bb58d124",
   "metadata": {},
   "outputs": [],
   "source": [
    "df.isnull().sum()"
   ]
  },
  {
   "cell_type": "code",
   "execution_count": null,
   "id": "d5c455c3",
   "metadata": {},
   "outputs": [],
   "source": [
    "# drop duplicates value\n",
    "df.drop_duplicates(inplace=True)"
   ]
  },
  {
   "cell_type": "code",
   "execution_count": null,
   "id": "9dcde1b1",
   "metadata": {},
   "outputs": [],
   "source": [
    "df.head()"
   ]
  },
  {
   "cell_type": "code",
   "execution_count": null,
   "id": "55f73758",
   "metadata": {},
   "outputs": [],
   "source": [
    "df[\"instrumentalness\"].unique()"
   ]
  },
  {
   "cell_type": "code",
   "execution_count": null,
   "id": "09b40d96",
   "metadata": {},
   "outputs": [],
   "source": [
    "# convert snapshot_date & album_release_date to date type\n",
    "df['snapshot_date'] = pd.to_datetime(df['snapshot_date'], errors='coerce')\n",
    "df['album_release_date'] = pd.to_datetime(df['album_release_date'], errors='coerce')\n",
    "\n",
    "df.head()"
   ]
  },
  {
   "cell_type": "code",
   "execution_count": null,
   "id": "6c79e564",
   "metadata": {},
   "outputs": [],
   "source": [
    "df.info()"
   ]
  },
  {
   "cell_type": "code",
   "execution_count": null,
   "id": "65f61ba9",
   "metadata": {},
   "outputs": [],
   "source": [
    "# Convert to list\n",
    "df['artists_list'] = df['artists'].str.split(', ')"
   ]
  },
  {
   "cell_type": "code",
   "execution_count": null,
   "id": "f4b80d8f",
   "metadata": {},
   "outputs": [],
   "source": [
    "# Replace country code to name of country\n",
    "country_mapping = {\n",
    "    'GBL': 'Global',\n",
    "    'ZA': 'South Africa',\n",
    "    'VN': 'Vietnam',\n",
    "    'VE': 'Venezuela',\n",
    "    'UY': 'Uruguay',\n",
    "    'US': 'United States',\n",
    "    'UA': 'Ukraine',\n",
    "    'TW': 'Taiwan',\n",
    "    'TR': 'Turkey',\n",
    "    'TH': 'Thailand',\n",
    "    'SV': 'El Salvador',\n",
    "    'SK': 'Slovakia',\n",
    "    'SG': 'Singapore',\n",
    "    'SE': 'Sweden',\n",
    "    'SA': 'Saudi Arabia',\n",
    "    'RO': 'Romania',\n",
    "    'PY': 'Paraguay',\n",
    "    'PT': 'Portugal',\n",
    "    'PL': 'Poland',\n",
    "    'PK': 'Pakistan',\n",
    "    'PH': 'Philippines',\n",
    "    'PE': 'Peru',\n",
    "    'PA': 'Panama',\n",
    "    'NZ': 'New Zealand',\n",
    "    'NO': 'Norway',\n",
    "    'NL': 'Netherlands',\n",
    "    'NI': 'Nicaragua',\n",
    "    'NG': 'Nigeria',\n",
    "    'MY': 'Malaysia',\n",
    "    'MX': 'Mexico',\n",
    "    'MA': 'Morocco',\n",
    "    'LV': 'Latvia',\n",
    "    'LU': 'Luxembourg',\n",
    "    'LT': 'Lithuania',\n",
    "    'KZ': 'Kazakhstan',\n",
    "    'KR': 'South Korea',\n",
    "    'JP': 'Japan',\n",
    "    'IT': 'Italy',\n",
    "    'IS': 'Iceland',\n",
    "    'IN': 'India',\n",
    "    'IL': 'Israel',\n",
    "    'IE': 'Ireland',\n",
    "    'ID': 'Indonesia',\n",
    "    'HU': 'Hungary',\n",
    "    'HN': 'Honduras',\n",
    "    'HK': 'Hong Kong',\n",
    "    'GT': 'Guatemala',\n",
    "    'GR': 'Greece',\n",
    "    'FR': 'France',\n",
    "    'FI': 'Finland',\n",
    "    'ES': 'Spain',\n",
    "    'EG': 'Egypt',\n",
    "    'EE': 'Estonia',\n",
    "    'EC': 'Ecuador',\n",
    "    'DO': 'Dominican Republic',\n",
    "    'DK': 'Denmark',\n",
    "    'DE': 'Germany',\n",
    "    'CZ': 'Czech Republic',\n",
    "    'CR': 'Costa Rica',\n",
    "    'CO': 'Colombia',\n",
    "    'CL': 'Chile',\n",
    "    'CH': 'Switzerland',\n",
    "    'CA': 'Canada',\n",
    "    'BY': 'Belarus',\n",
    "    'BR': 'Brazil',\n",
    "    'BO': 'Bolivia',\n",
    "    'BG': 'Bulgaria',\n",
    "    'BE': 'Belgium',\n",
    "    'AU': 'Australia',\n",
    "    'AT': 'Austria',\n",
    "    'AR': 'Argentina',\n",
    "    'AE': 'United Arab Emirates',\n",
    "    'GB': 'United Kingdom'\n",
    "}\n",
    "\n",
    "df[\"country\"] = df[\"country\"].replace(country_mapping)\n",
    "\n",
    "df[\"country\"].unique()"
   ]
  },
  {
   "cell_type": "code",
   "execution_count": null,
   "id": "dc528497",
   "metadata": {},
   "outputs": [],
   "source": [
    "df.columns"
   ]
  },
  {
   "cell_type": "code",
   "execution_count": null,
   "id": "d0a321a9",
   "metadata": {},
   "outputs": [],
   "source": [
    "df.head()"
   ]
  },
  {
   "cell_type": "code",
   "execution_count": null,
   "id": "0cad9444",
   "metadata": {},
   "outputs": [],
   "source": [
    "# change boolean to another text\n",
    "df['is_explicit'] = np.where(df['is_explicit'], 'explicit', 'non-explicit')"
   ]
  },
  {
   "cell_type": "code",
   "execution_count": null,
   "id": "222dab78",
   "metadata": {},
   "outputs": [],
   "source": [
    "df[\"is_explicit\"].value_counts()"
   ]
  },
  {
   "cell_type": "code",
   "execution_count": null,
   "id": "fd2f88df",
   "metadata": {},
   "outputs": [],
   "source": [
    "df.to_csv(\"cleaned_top_spotify_song.csv\", index=False)"
   ]
  }
 ],
 "metadata": {
  "kernelspec": {
   "display_name": "Py_New",
   "language": "python",
   "name": "python3"
  },
  "language_info": {
   "codemirror_mode": {
    "name": "ipython",
    "version": 3
   },
   "file_extension": ".py",
   "mimetype": "text/x-python",
   "name": "python",
   "nbconvert_exporter": "python",
   "pygments_lexer": "ipython3",
   "version": "3.13.2"
  }
 },
 "nbformat": 4,
 "nbformat_minor": 5
}
